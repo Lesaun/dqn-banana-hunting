{
 "cells": [
  {
   "cell_type": "markdown",
   "metadata": {},
   "source": [
    "### Imports"
   ]
  },
  {
   "cell_type": "code",
   "execution_count": 1,
   "metadata": {},
   "outputs": [],
   "source": [
    "import random\n",
    "\n",
    "from unityagents import UnityEnvironment\n",
    "import numpy as np\n",
    "import torch\n",
    "\n",
    "from agent import Agent\n",
    "from train import train\n",
    "from run_game import run_game"
   ]
  },
  {
   "cell_type": "markdown",
   "metadata": {},
   "source": [
    "### Load Environment"
   ]
  },
  {
   "cell_type": "code",
   "execution_count": 2,
   "metadata": {
    "scrolled": false
   },
   "outputs": [
    {
     "name": "stderr",
     "output_type": "stream",
     "text": [
      "INFO:unityagents:\n",
      "'Academy' started successfully!\n",
      "Unity Academy name: Academy\n",
      "        Number of Brains: 1\n",
      "        Number of External Brains : 1\n",
      "        Lesson number : 0\n",
      "        Reset Parameters :\n",
      "\t\t\n",
      "Unity brain name: BananaBrain\n",
      "        Number of Visual Observations (per agent): 0\n",
      "        Vector Observation space type: continuous\n",
      "        Vector Observation space size (per agent): 37\n",
      "        Number of stacked Vector Observation: 1\n",
      "        Vector Action space type: discrete\n",
      "        Vector Action space size (per agent): 4\n",
      "        Vector Action descriptions: , , , \n"
     ]
    }
   ],
   "source": [
    "env = UnityEnvironment(file_name='banana_app/Banana.app', seed=random.randint(0,10000))"
   ]
  },
  {
   "cell_type": "markdown",
   "metadata": {},
   "source": [
    "### Get state and action size"
   ]
  },
  {
   "cell_type": "code",
   "execution_count": 3,
   "metadata": {},
   "outputs": [],
   "source": [
    "env_info = env.reset(train_mode=True)[env.brain_names[0]]\n",
    "state_size = len(env_info.vector_observations[0]) * 4\n",
    "action_size = env.brains[env.brain_names[0]].vector_action_space_size"
   ]
  },
  {
   "cell_type": "markdown",
   "metadata": {},
   "source": [
    "### Run game with previously trained agent"
   ]
  },
  {
   "cell_type": "code",
   "execution_count": 4,
   "metadata": {},
   "outputs": [
    {
     "name": "stdout",
     "output_type": "stream",
     "text": [
      "Score 15.0\n"
     ]
    }
   ],
   "source": [
    "model_state = torch.load('model_weights.pth')\n",
    "agent = Agent(state_size, action_size, model_state = model_state)\n",
    "score = run_game(env, agent)\n",
    "print('Score ' + str(score))"
   ]
  },
  {
   "cell_type": "markdown",
   "metadata": {},
   "source": [
    "### Train agent"
   ]
  },
  {
   "cell_type": "code",
   "execution_count": 6,
   "metadata": {},
   "outputs": [
    {
     "name": "stdout",
     "output_type": "stream",
     "text": [
      "Episode 0 to 10 scores:  -1 01 00 01 01 02 01 00 01 01\n",
      "Episode 10 to 20 scores:  00 00 01 00 00 -1 -1 -1 01 -1\n",
      "Episode 20 to 30 scores:  01 00 00 00 01 02 00 00 -2 -1\n",
      "Episode 30 to 40 scores:  00 -1 -1 -1 00 01 00 01 01 04\n",
      "Episode 40 to 50 scores:  -1 -1 01 00 00 01 -1 02 -1 00\n",
      "Episode 50 to 60 scores:  00 01 -1 01 00 00 01 01 02 -2\n",
      "Episode 60 to 70 scores:  01 01 00 01 01 -1 02 01 00 02\n",
      "Episode 70 to 80 scores:  01 01 00 01 00 00 03 01 01 -1\n",
      "Episode 80 to 90 scores:  01 00 02 03 01 -1 00 02 00 -1\n",
      "Episode 90 to 100 scores:  00 00 01 00 01 00 -2 -3 01 02\n",
      "Episode 100 to 110 scores:  04 06 -2 00 -2 00 01 01 00 05\n",
      "Episode 110 to 120 scores:  01 01 05 -1 02 05 01 -1 -1 02\n",
      "Episode 120 to 130 scores:  -1 02 01 01 -1 00 00 03 01 01\n",
      "Episode 130 to 140 scores:  -1 00 02 02 01 02 04 00 01 01\n",
      "Episode 140 to 150 scores:  03 05 02 00 00 00 03 02 06 02\n",
      "Episode 150 to 160 scores:  00 00 -1 03 00 -2 03 00 02 01\n",
      "Episode 160 to 170 scores:  04 01 02 02 -1 04 00 04 06 01\n",
      "Episode 170 to 180 scores:  00 01 00 04 04 03 10 01 06 04\n",
      "Episode 180 to 190 scores:  01 02 00 01 02 01 02 02 02 04\n",
      "Episode 190 to 200 scores:  00 05 01 02 06 05 02 04 04 04\n",
      "Episode 200 to 210 scores:  02 04 04 05 01 05 06 03 05 05\n",
      "Episode 210 to 220 scores:  01 01 00 02 04 03 01 12 04 07\n",
      "Episode 220 to 230 scores:  05 02 02 05 07 05 04 06 05 01\n",
      "Episode 230 to 240 scores:  04 01 10 08 05 05 08 08 07 05\n",
      "Episode 240 to 250 scores:  06 08 01 07 06 08 05 03 09 03\n",
      "Episode 250 to 260 scores:  09 10 04 04 08 01 02 04 05 01\n",
      "Episode 260 to 270 scores:  06 03 06 06 06 05 07 04 03 06\n",
      "Episode 270 to 280 scores:  03 04 02 03 05 08 07 04 06 06\n",
      "Episode 280 to 290 scores:  06 05 11 07 03 07 07 04 05 05\n",
      "Episode 290 to 300 scores:  09 11 04 04 05 06 04 06 06 06\n",
      "Episode 300 to 310 scores:  06 10 08 08 08 07 03 05 10 06\n",
      "Episode 310 to 320 scores:  05 07 10 10 03 04 05 04 07 07\n",
      "Episode 320 to 330 scores:  07 09 10 11 02 04 10 10 06 10\n",
      "Episode 330 to 340 scores:  11 11 07 02 05 08 13 03 08 06\n",
      "Episode 340 to 350 scores:  10 08 08 07 04 09 10 11 09 08\n",
      "Episode 350 to 360 scores:  09 05 05 09 05 08 10 09 11 04\n",
      "Episode 360 to 370 scores:  10 04 07 13 10 01 08 13 10 10\n",
      "Episode 370 to 380 scores:  12 10 09 11 07 07 11 02 09 11\n",
      "Episode 380 to 390 scores:  12 11 14 11 10 07 03 11 12 12\n",
      "Episode 390 to 400 scores:  06 11 10 03 09 15 15 10 04 11\n",
      "Episode 400 to 410 scores:  15 13 12 15 12 14 12 18 10 12\n",
      "Episode 410 to 420 scores:  11 02 15 11 16 09 11 11 11 11\n",
      "Episode 420 to 430 scores:  12 07 09 05 11 11 16 07 11 10\n",
      "Episode 430 to 440 scores:  07 07 12 11 09 15 13 12 12 14\n",
      "Episode 440 to 450 scores:  11 06 10 13 09 18 07 10 12 12\n",
      "Episode 450 to 460 scores:  13 11 11 03 14 12 14 13 05 09\n",
      "Episode 460 to 470 scores:  11 15 12 11 20 13 14 09 13 10\n",
      "Episode 470 to 480 scores:  07 10 13 13 12 16 12 10 12 16\n",
      "Episode 480 to 490 scores:  08 12 08 11 11 12 13 11 04 14\n",
      "Episode 490 to 500 scores:  11 15 09 10 16 12 06 13 13 12\n",
      "Episode 500 to 510 scores:  11 12 12 13 05 19 15 11 13 13\n",
      "Episode 510 to 520 scores:  13 17 16 14 07 17 16 06 11 16\n",
      "Episode 520 to 530 scores:  16 12 13 12 07 07 15 06 13 16\n",
      "Episode 530 to 540 scores:  15 16 16 11 09 17 14 16 14 16\n",
      "Episode 540 to 550 scores:  15 14 19 06 09 12 11 12 12 12\n",
      "Episode 550 to 560 scores:  19 10 14 18 09 17 12 03 12 18\n",
      "Episode 560 to 570 scores:  08 16 14 16 10 10 17 17 04 12\n",
      "Episode 570 to 580 scores:  08 11 12 19 13 09 16 11 14 16\n",
      "Episode 580 to 590 scores:  15 13 13 13 12 05 17 16 16 15\n",
      "Episode 590 to 600 scores:  16 09 12 13 12 13 14 15 06 11\n",
      "Episode 600 to 610 scores:  09 18 13 18 08 11 14 07 15 12\n",
      "Solved on episode: 619\n",
      "Episode 610 to 620 scores:  15 14 17 18 14 12 12 19 18 19\n",
      "Episode 620 to 630 scores:  10 10 10 22 10 14 13 14 12 18\n",
      "Episode 630 to 640 scores:  11 13 08 18 15 11 12 14 16 12\n",
      "Episode 640 to 650 scores:  08 18 18 15 16 13 13 11 14 15\n",
      "Episode 650 to 660 scores:  11 16 15 17 14 14 15 16 09 19\n",
      "Episode 660 to 670 scores:  17 12 15 06 18 16 12 11 17 11\n",
      "Episode 670 to 680 scores:  13 16 12 13 15 11 18 14 17 14\n",
      "Episode 680 to 690 scores:  12 11 14 10 14 17 15 11 18 07\n",
      "Episode 690 to 700 scores:  10 07 07 18 09 18 17 21 15 17\n",
      "Episode 700 to 710 scores:  16 07 17 12 13 17 17 12 15 14\n",
      "Episode 710 to 720 scores:  09 13 16 17 13 09 16 06 19 11\n",
      "Episode 720 to 730 scores:  18 18 12 19 13 14 11 18 18 17\n",
      "Episode 730 to 740 scores:  09 15 16 16 12 16 13 18 12 16\n",
      "Episode 740 to 750 scores:  17 14 18 15 13 12 16 19 16 17\n",
      "Episode 750 to 760 scores:  14 21 16 11 17 08 16 14 18 12\n",
      "Episode 760 to 770 scores:  14 09 13 16 07 16 11 14 18 18\n",
      "Episode 770 to 780 scores:  15 12 12 12 13 13 12 12 08 17\n",
      "Episode 780 to 790 scores:  14 15 11 16 18 17 11 19 19 22\n",
      "Episode 790 to 800 scores:  13 20 17 19 15 16 21 14 20 20\n",
      "Episode 800 to 810 scores:  16 15 20 18 16 10 21 09 17 05\n",
      "Episode 810 to 820 scores:  10 17 09 10 22 12 15 02 12 17\n",
      "Episode 820 to 830 scores:  07 14 13 14 09 08 12 13 13 16\n",
      "Episode 830 to 840 scores:  10 18 12 12 12 14 17 16 15 08\n",
      "Episode 840 to 850 scores:  05 10 17 15 17 19 18 15 08 12\n",
      "Episode 850 to 860 scores:  10 14 09 14 15 12 15 15 18 14\n",
      "Episode 860 to 870 scores:  18 17 16 20 19 16 15 11 13 10\n",
      "Episode 870 to 880 scores:  15 07 16 12 21 21 17 07 15 12\n",
      "Episode 880 to 890 scores:  14 13 04 19 16 15 13 09 11 11\n",
      "Episode 890 to 900 scores:  18 16 16 18 06 19 18 14 18 20\n",
      "Episode 900 to 910 scores:  19 18 12 14 10 16 11 18 21 14\n",
      "Episode 910 to 920 scores:  15 19 11 15 12 10 17 10 14 15\n",
      "Episode 920 to 930 scores:  10 19 11 21 20 17 17 17 20 18\n",
      "Episode 930 to 940 scores:  16 12 18 17 18 16 15 17 19 21\n",
      "Episode 940 to 950 scores:  09 16 18 17 20 12 12 18 12 19\n",
      "Episode 950 to 960 scores:  18 12 12 15 09 14 10 17 19 13\n",
      "Episode 960 to 970 scores:  16 18 13 18 15 16 14 08 20 09\n",
      "Episode 970 to 980 scores:  16 16 11 13 12 18 17 16 17 04\n",
      "Episode 980 to 990 scores:  14 17 15 22 16 16 16 15 13 16\n",
      "Episode 990 to 1000 scores:  09 19 17 24 21 11 16 12 15 18\n"
     ]
    }
   ],
   "source": [
    "agent = Agent(state_size, action_size)\n",
    "\n",
    "scores = train(env, agent, n_episodes = 1000)\n",
    "\n",
    "# save network model\n",
    "torch.save(agent.Qθ.state_dict(), 'model_weights.pth')"
   ]
  },
  {
   "cell_type": "markdown",
   "metadata": {},
   "source": [
    "### Graph training scores"
   ]
  },
  {
   "cell_type": "code",
   "execution_count": 7,
   "metadata": {
    "hideCode": true
   },
   "outputs": [
    {
     "data": {
      "image/png": "[encoded data removed]",
      "text/plain": [
       "<Figure size 432x288 with 1 Axes>"
      ]
     },
     "metadata": {},
     "output_type": "display_data"
    }
   ],
   "source": [
    "from itertools import zip_longest\n",
    "import matplotlib.pyplot as plt\n",
    "\n",
    "means = []\n",
    "for group in zip_longest(*([iter(scores)] * 10)):\n",
    "    means.append(np.mean(group))\n",
    "\n",
    "plt.plot(np.arange(100) * 10, means)\n",
    "plt.xlabel('Number of Episodes')\n",
    "plt.ylabel('Avg score over 10 epsodes')\n",
    "plt.show()"
   ]
  }
 ],
 "metadata": {
  "kernelspec": {
   "display_name": "drlnd",
   "language": "python",
   "name": "drlnd"
  },
  "language_info": {
   "codemirror_mode": {
    "name": "ipython",
    "version": 3
   },
   "file_extension": ".py",
   "mimetype": "text/x-python",
   "name": "python",
   "nbconvert_exporter": "python",
   "pygments_lexer": "ipython3",
   "version": "3.6.6"
  }
 },
 "nbformat": 4,
 "nbformat_minor": 2
}
